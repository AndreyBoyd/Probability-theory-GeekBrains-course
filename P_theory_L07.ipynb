{
 "cells": [
  {
   "cell_type": "markdown",
   "metadata": {},
   "source": [
    "#### Урок 7. Многомерный статистический анализ. Линейная регрессия\n",
    "\n",
    "##### 1. Даны значения величины заработной платы заемщиков банка (zp) и значения их поведенческого кредитного скоринга (ks): \n",
    "\n",
    "zp = [35, 45, 190, 200, 40, 70, 54, 150, 120, 110], \n",
    "ks = [401, 574, 874, 919, 459, 739, 653, 902, 746, 832]. \n",
    "##### Используя математические операции, посчитать коэффициенты линейной регрессии, приняв за X заработную плату (то есть, zp - признак), а за y - значения скорингового балла (то есть, ks - целевая переменная). Произвести расчет как с использованием intercept, так и без."
   ]
  },
  {
   "cell_type": "code",
   "execution_count": 1,
   "metadata": {},
   "outputs": [],
   "source": [
    "import numpy as np\n",
    "import matplotlib.pyplot as plt"
   ]
  },
  {
   "cell_type": "code",
   "execution_count": 2,
   "metadata": {},
   "outputs": [],
   "source": [
    "zp = np.array([35, 45, 190, 200, 40, 70, 54, 150, 120, 110])\n",
    "ks = np.array([401, 574, 874, 919, 459, 739, 653, 902, 746, 832])"
   ]
  },
  {
   "cell_type": "code",
   "execution_count": 3,
   "metadata": {},
   "outputs": [
    {
     "data": {
      "text/plain": [
       "array([[  1.,  35.],\n",
       "       [  1.,  45.],\n",
       "       [  1., 190.],\n",
       "       [  1., 200.],\n",
       "       [  1.,  40.],\n",
       "       [  1.,  70.],\n",
       "       [  1.,  54.],\n",
       "       [  1., 150.],\n",
       "       [  1., 120.],\n",
       "       [  1., 110.]])"
      ]
     },
     "execution_count": 3,
     "metadata": {},
     "output_type": "execute_result"
    }
   ],
   "source": [
    "X = zp.reshape((len(zp), 1))\n",
    "Y = ks.reshape((len(ks), 1))\n",
    "\n",
    "X_intercept = np.hstack([np.ones((len(X), 1)), X])\n",
    "X_intercept"
   ]
  },
  {
   "cell_type": "code",
   "execution_count": 4,
   "metadata": {},
   "outputs": [
    {
     "data": {
      "text/plain": [
       "array([[444.17735732],\n",
       "       [  2.62053888]])"
      ]
     },
     "execution_count": 4,
     "metadata": {},
     "output_type": "execute_result"
    }
   ],
   "source": [
    "B_intercept = np.dot(np.linalg.inv(np.dot(X_intercept.T, X_intercept)), X_intercept.T@Y)\n",
    "B_intercept"
   ]
  },
  {
   "cell_type": "code",
   "execution_count": 5,
   "metadata": {},
   "outputs": [
    {
     "data": {
      "text/plain": [
       "array([[5.88982042]])"
      ]
     },
     "execution_count": 5,
     "metadata": {},
     "output_type": "execute_result"
    }
   ],
   "source": [
    "B = np.dot(np.linalg.inv(np.dot(X.T, X)), X.T@Y)\n",
    "B"
   ]
  },
  {
   "cell_type": "markdown",
   "metadata": {},
   "source": [
    "##### y = 444,1774 + 2,6205x - с intercept\n",
    "##### y = 5,8898x - без intercept"
   ]
  },
  {
   "cell_type": "code",
   "execution_count": 6,
   "metadata": {},
   "outputs": [
    {
     "data": {
      "image/png": "[encoded data removed]",
      "text/plain": [
       "<Figure size 432x288 with 1 Axes>"
      ]
     },
     "metadata": {
      "needs_background": "light"
     },
     "output_type": "display_data"
    }
   ],
   "source": [
    "plt.scatter(X,Y)\n",
    "plt.plot(X, B_intercept[0,0] + B_intercept[1,0] * X, label='y = 444.1774 + 2.6205 * x')\n",
    "plt.plot(X, B[0,0] * X, label='y = 5.8898 * x')\n",
    "plt.legend()\n",
    "plt.show()"
   ]
  },
  {
   "cell_type": "markdown",
   "metadata": {},
   "source": [
    "##### 2. Посчитать коэффициент линейной регрессии при заработной плате (zp), используя градиентный спуск (без intercept)."
   ]
  },
  {
   "cell_type": "code",
   "execution_count": 7,
   "metadata": {},
   "outputs": [],
   "source": [
    "X, Y = zp, ks\n",
    "n = len(Y)\n",
    "B1 = 0.1\n",
    "alpha = 1e-6"
   ]
  },
  {
   "cell_type": "code",
   "execution_count": 8,
   "metadata": {},
   "outputs": [],
   "source": [
    "def mse_function (B1, Y=Y, X=X, n=n):\n",
    "  return np.sum((Y-B1*X)**2)/n"
   ]
  },
  {
   "cell_type": "code",
   "execution_count": 9,
   "metadata": {},
   "outputs": [],
   "source": [
    "def mse_derivative (B1, Y=Y, X=X, n=n):\n",
    "  return -2*np.sum((Y-B1*X)*X)/n"
   ]
  },
  {
   "cell_type": "code",
   "execution_count": 10,
   "metadata": {},
   "outputs": [
    {
     "name": "stdout",
     "output_type": "stream",
     "text": [
      "B1=0.25952808, MSE=493237.7212546963, MSE_der=-155132.57090614398\n",
      "B1=3.4547782236263824, MSE=138204.25062502263, MSE_der=-67093.20464877757\n",
      "B1=4.836690291080364, MSE=71796.25222021657, MSE_der=-29017.105071804508\n",
      "B1=5.434352720103083, MSE=59374.825462025976, MSE_der=-12549.592632455746\n",
      "B1=5.692835432193034, MSE=57051.433003054815, MSE_der=-5427.5667696988985\n",
      "B1=5.804626485478126, MSE=56616.849068093856, MSE_der=-2347.3655203240974\n",
      "B1=5.852974939784972, MSE=56535.56138215128, MSE_der=-1015.2108891167085\n",
      "B1=5.873885137561711, MSE=56520.35675226433, MSE_der=-439.06802773466916\n",
      "B1=5.882928578088004, MSE=56517.512769595625, MSE_der=-189.89230222560946\n",
      "B1=5.8868397709626885, MSE=56516.98081074626, MSE_der=-82.12642271085133\n",
      "B1=5.888531320728348, MSE=56516.88130936019, MSE_der=-35.518813707677324\n",
      "B1=5.889262898203911, MSE=56516.862697909644, MSE_der=-15.361513208007091\n",
      "B1=5.889579297764605, MSE=56516.85921669088, MSE_der=-6.643692832276429\n",
      "B1=5.889716137245525, MSE=56516.858565538845, MSE_der=-2.8733272465949993\n",
      "B1=5.88977531888123, MSE=56516.8584437427, MSE_der=-1.242683801693056\n",
      "B1=5.889800914315978, MSE=56516.858420961085, MSE_der=-0.5374476689947187\n",
      "B1=5.889811984072197, MSE=56516.85841669984, MSE_der=-0.23244046194377005\n",
      "B1=5.889816771625289, MSE=56516.8584159028, MSE_der=-0.10052805409432039\n",
      "B1=5.889818842191625, MSE=56516.85841575372, MSE_der=-0.04347732571986853\n",
      "B1=5.889819737689781, MSE=56516.85841572584, MSE_der=-0.018803485908574658\n",
      "B1=5.889820124983314, MSE=56516.85841572062, MSE_der=-0.008132309756911127\n",
      "B1=5.88982029248369, MSE=56516.85841571963, MSE_der=-0.0035171383984561543\n",
      "B1=5.88982036492584, MSE=56516.85841571945, MSE_der=-0.0015211253412417136\n",
      "B1=5.889820396256308, MSE=56516.85841571943, MSE_der=-0.0006578706837899517\n"
     ]
    }
   ],
   "source": [
    "for i in range(700):\n",
    "  B1 -= alpha*(2/n)*np.sum((Y-B1*X)*(-1)*X)\n",
    "  if i%30==0:\n",
    "    print(f'B1={B1}, MSE={mse_function(B1)}, MSE_der={mse_derivative(B1)}')"
   ]
  },
  {
   "cell_type": "markdown",
   "metadata": {},
   "source": [
    "##### B1=5.889820396256308, y = 5.889820396256308x"
   ]
  },
  {
   "cell_type": "markdown",
   "metadata": {},
   "source": [
    "##### *3. Произвести вычисления как в пункте 2, но с вычислением intercept. Учесть, что изменение коэффициентов должно производиться на каждом шаге одновременно (то есть изменение одного коэффициента не должно влиять на изменение другого во время одной итерации)."
   ]
  },
  {
   "cell_type": "code",
   "execution_count": 16,
   "metadata": {},
   "outputs": [],
   "source": [
    "X, y = zp, ks\n",
    "n = len(y)\n",
    "np.random.seed(42)\n",
    "B0 = np.random.randn(1)\n",
    "B1 = np.random.randn(1)\n",
    "\n",
    "epochs = 2000000\n",
    "alpha = 5e-5"
   ]
  },
  {
   "cell_type": "code",
   "execution_count": 17,
   "metadata": {},
   "outputs": [],
   "source": [
    "def mse_function_intercept(B0, B1, y=y, X=X, n=n):\n",
    "  return np.sum((y-B0-B1*X)**2)/n\n",
    "\n",
    "def mse_derivative_B0_intercept(B0, B1, y=y, X=X, n=n):\n",
    "  return [-2*np.sum((y-B0-B1*X))/n]\n",
    "\n",
    "def mse_derivative_B1_intercept(B0, B1, y=y, X=X, n=n):\n",
    "  return [-2*np.sum((y-B0-B1*X)*X)/n]"
   ]
  },
  {
   "cell_type": "code",
   "execution_count": 18,
   "metadata": {},
   "outputs": [
    {
     "name": "stdout",
     "output_type": "stream",
     "text": [
      "B0=[0.56905648], B1=[8.16061666], MSE=127690.26150363192, mse_der_B0=[236.31117227169608], mse_der_B1=[62683.10770051738]\n",
      "B0=[441.39996253], B1=[2.64098122], MSE=6472.3709524663445, mse_der_B0=[-1.4090840305107803], mse_der_B1=[-0.003916893695713952]\n",
      "B0=[444.15996894], B1=[2.62066687], MSE=6470.414277873725, mse_der_B0=[-0.0088218252853153], mse_der_B1=[-2.4522418243577704e-05]\n",
      "B0=[444.17724846], B1=[2.62053968], MSE=6470.414201179667, mse_der_B0=[-5.523063146597451e-05], mse_der_B1=[-1.5352779882960022e-07]\n",
      "B0=[444.17735664], B1=[2.62053889], MSE=6470.414201176661, mse_der_B0=[-3.457820014318713e-07], mse_der_B1=[-9.626091923564673e-10]\n",
      "B0=[444.17735732], B1=[2.62053888], MSE=6470.414201176657, mse_der_B0=[-2.208435034845024e-09], mse_der_B1=[-5.093170329928398e-12]\n",
      "B0=[444.17735732], B1=[2.62053888], MSE=6470.414201176658, mse_der_B0=[-5.684000825567636e-10], mse_der_B1=[-0.0]\n"
     ]
    }
   ],
   "source": [
    "for i in range(1400000):\n",
    "  B0 -= alpha*(2/n)*np.sum((y-B0-B1*X)*(-1))\n",
    "  B1 -= alpha*(2/n)*np.sum((y-B0-B1*X)*(-1)*X)\n",
    "  if i%200000==0:\n",
    "    print(f'B0={B0}, B1={B1}, MSE={mse_function_intercept(B0, B1)}, mse_der_B0={mse_derivative_B0_intercept(B0, B1)}, mse_der_B1={mse_derivative_B1_intercept(B0, B1)}')"
   ]
  },
  {
   "cell_type": "code",
   "execution_count": null,
   "metadata": {},
   "outputs": [],
   "source": []
  }
 ],
 "metadata": {
  "kernelspec": {
   "display_name": "Python 3",
   "language": "python",
   "name": "python3"
  },
  "language_info": {
   "codemirror_mode": {
    "name": "ipython",
    "version": 3
   },
   "file_extension": ".py",
   "mimetype": "text/x-python",
   "name": "python",
   "nbconvert_exporter": "python",
   "pygments_lexer": "ipython3",
   "version": "3.8.5"
  }
 },
 "nbformat": 4,
 "nbformat_minor": 4
}
