{
 "cells": [
  {
   "cell_type": "markdown",
   "metadata": {},
   "source": [
    "### Урок 3. Описательная статистика. Качественные и количественные характеристики популяции. Графическое представление данных\n",
    "\n",
    "Даны значения зарплат из выборки выпускников: 100, 80, 75, 77, 89, 33, 45, 25, 65, 17, 30, 24, 57, 55, 70, 75, 65, 84, 90, 150. Посчитать (желательно без использования статистических методов наподобие std, var, mean) среднее арифметическое, среднее квадратичное отклонение, смещенную и несмещенную оценки дисперсий для данной выборки."
   ]
  },
  {
   "cell_type": "code",
   "execution_count": 1,
   "metadata": {},
   "outputs": [
    {
     "name": "stdout",
     "output_type": "stream",
     "text": [
      "Среднее арифметическое: 65.3\n"
     ]
    }
   ],
   "source": [
    "import numpy as np\n",
    "from math import factorial\n",
    "\n",
    "zp=np.array([100, 80, 75, 77, 89, 33, 45, 25, 65, 17, 30, 24, 57, 55, 70, 75, 65, 84, 90, 150])\n",
    "\n",
    "def average(zp):\n",
    "    return sum(zp)/zp.shape[0]\n",
    "\n",
    "a = average(zp)\n",
    "print(f\"Среднее арифметическое:\", a)"
   ]
  },
  {
   "cell_type": "code",
   "execution_count": 2,
   "metadata": {},
   "outputs": [
    {
     "name": "stdout",
     "output_type": "stream",
     "text": [
      "Cреднее квадратичное отклонение: 30.823854398825596\n"
     ]
    }
   ],
   "source": [
    "def sko(zp):\n",
    "    deviations = np.array([z - average(zp) for z in zp])\n",
    "    return np.sqrt(sum(deviations**2)/deviations.shape[0])\n",
    "\n",
    "b = sko(zp)\n",
    "print(f\"Cреднее квадратичное отклонение:\", b)"
   ]
  },
  {
   "cell_type": "code",
   "execution_count": 3,
   "metadata": {},
   "outputs": [
    {
     "name": "stdout",
     "output_type": "stream",
     "text": [
      "Смещенная оценка дисперсии: 950.11\n"
     ]
    }
   ],
   "source": [
    "def biased_var(zp):\n",
    "    deviations = np.array([z - average(zp) for z in zp])\n",
    "    return sum(deviations**2)/(deviations.shape[0])\n",
    "\n",
    "d = biased_var(zp)\n",
    "print(f\"Смещенная оценка дисперсии:\", d)"
   ]
  },
  {
   "cell_type": "code",
   "execution_count": 5,
   "metadata": {},
   "outputs": [
    {
     "name": "stdout",
     "output_type": "stream",
     "text": [
      "Несмещенная оценка дисперсии: 1000.1157894736842\n"
     ]
    }
   ],
   "source": [
    "def unbiased_var(zp):\n",
    "    deviations = np.array([z - average(zp) for z in zp])\n",
    "    return sum(deviations**2)/(deviations.shape[0] - 1)\n",
    "\n",
    "c = unbiased_var(zp)\n",
    "print(f\"Несмещенная оценка дисперсии:\", c)"
   ]
  },
  {
   "cell_type": "markdown",
   "metadata": {},
   "source": [
    "В первом ящике находится 8 мячей, из которых 5 - белые. Во втором ящике - 12 мячей, из которых 5 белых. Из первого ящика вытаскивают случайным образом два мяча, из второго - 4. Какова вероятность того, что 3 мяча белые?"
   ]
  },
  {
   "cell_type": "code",
   "execution_count": 6,
   "metadata": {},
   "outputs": [
    {
     "name": "stdout",
     "output_type": "stream",
     "text": [
      "Вероятность 3 белых мячей: 0.3686868686868686\n"
     ]
    }
   ],
   "source": [
    "def combinations(n, k):\n",
    "    return factorial(n) / (factorial(k) * factorial(n - k))\n",
    "\n",
    "result = (combinations(5,2)/combinations(8,2)*combinations(5,1)*combinations(7,3)/combinations(12,4) +\n",
    "          combinations(5,1)*combinations(3,1)/combinations(8,2)*combinations(5,2)*combinations(7,2)/combinations(12,4) +\n",
    "          combinations(3,2)/combinations(8,2)*combinations(5,3)*combinations(7,1)/combinations(12,4))\n",
    "\n",
    "print(f\"Вероятность 3 белых мячей:\", result)"
   ]
  },
  {
   "cell_type": "markdown",
   "metadata": {},
   "source": [
    "На соревновании по биатлону один из трех спортсменов стреляет и попадает в мишень. Вероятность попадания для первого спортсмена равна 0.9, для второго — 0.8, для третьего — 0.6. Найти вероятность того, что выстрел произведен: \n",
    "\n",
    "a). первым спортсменом \n",
    "\n",
    "б). вторым спортсменом \n",
    "\n",
    "в). третьим спортсменом."
   ]
  },
  {
   "cell_type": "markdown",
   "metadata": {},
   "source": [
    "В - выстрел одного из спортсменов, А - попaдание одного из спортсменов"
   ]
  },
  {
   "cell_type": "code",
   "execution_count": 9,
   "metadata": {},
   "outputs": [
    {
     "name": "stdout",
     "output_type": "stream",
     "text": [
      "Вероятность того что попал первый спортсмен: 0.391304347826087\n",
      "Вероятность того что попал второй спортсмен: 0.3478260869565218\n",
      "Вероятность того что попал третий спортсмен: 0.2608695652173913\n"
     ]
    }
   ],
   "source": [
    "B1, B2, B3 = 1/3, 1/3, 1/3\n",
    "A1, A2, A3 = 0.9, 0.8, 0.6\n",
    "\n",
    "P1 = A1*B1 / (A1*B1 + A2*B2 + A3*B3)\n",
    "P2 = A2*B2 / (A1*B1 + A2*B2 + A3*B3)\n",
    "P3 = A3*B3 / (A1*B1 + A2*B2 + A3*B3)\n",
    "\n",
    "print(f\"Вероятность того что попал первый спортсмен:\", P1) \n",
    "print(f\"Вероятность того что попал второй спортсмен:\", P2) \n",
    "print(f\"Вероятность того что попал третий спортсмен:\", P3)"
   ]
  },
  {
   "cell_type": "markdown",
   "metadata": {},
   "source": [
    "В университет на факультеты A и B поступило равное количество студентов, а на факультет C студентов поступило столько же, сколько на A и B вместе. Вероятность того, что студент факультета A сдаст первую сессию, равна 0.8. Для студента факультета B эта вероятность равна 0.7, а для студента факультета C - 0.9. Студент сдал первую сессию. Какова вероятность, что он учится: \n",
    "\n",
    "a). на факультете A\n",
    "\n",
    "б). на факультете B \n",
    "\n",
    "в). на факультете C?"
   ]
  },
  {
   "cell_type": "code",
   "execution_count": 10,
   "metadata": {},
   "outputs": [
    {
     "name": "stdout",
     "output_type": "stream",
     "text": [
      "Вероятность того что cтудент учится на факультете A: 0.24242424242424246\n",
      "Вероятность того что cтудент учится на факультете B: 0.21212121212121213\n",
      "Вероятность того что cтудент учится на факультете C: 0.5454545454545455\n"
     ]
    }
   ],
   "source": [
    "B1, B2, B3 = 1/4, 1/4, 1/2\n",
    "A1, A2, A3 = 0.8, 0.7, 0.9\n",
    "\n",
    "P1 = A1*B1 / (A1*B1 + A2*B2 + A3*B3)\n",
    "P2 = A2*B2 / (A1*B1 + A2*B2 + A3*B3)\n",
    "P3 = A3*B3 / (A1*B1 + A2*B2 + A3*B3)\n",
    "\n",
    "print(f\"Вероятность того что cтудент учится на факультете A:\", P1) \n",
    "print(f\"Вероятность того что cтудент учится на факультете B:\", P2) \n",
    "print(f\"Вероятность того что cтудент учится на факультете C:\", P3)"
   ]
  },
  {
   "cell_type": "markdown",
   "metadata": {},
   "source": [
    "Устройство состоит из трех деталей. Для первой детали вероятность выйти из строя в первый месяц равна 0.1, для второй - 0.2, для третьей - 0.25. Какова вероятность того, что в первый месяц выйдут из строя: \n",
    "\n",
    "а). все детали \n",
    "\n",
    "б). только две детали \n",
    "\n",
    "в). хотя бы одна деталь \n",
    "\n",
    "г). от одной до двух деталей?"
   ]
  },
  {
   "cell_type": "code",
   "execution_count": 11,
   "metadata": {},
   "outputs": [
    {
     "name": "stdout",
     "output_type": "stream",
     "text": [
      "Вероятность того, что в первый месяц выйдут из строя все детали: 0.005000000000000001\n",
      "Вероятность того, что в первый месяц выйдут из строя только две детали: 0.08000000000000002\n",
      "Вероятность того, что в первый месяц выйдут из строя хотя бы одна деталь: 0.4600000000000001\n",
      "Вероятность того, что в первый месяц выйдут из строя от одной до двух деталей: 0.45500000000000007\n"
     ]
    }
   ],
   "source": [
    "x, y, z = 0.1, 0.2, 0.25\n",
    "\n",
    "P1 = x*y*z\n",
    "P2 = x*y*(1-z) + y*z*(1-x) + x*z*(1-y)\n",
    "P3 = x*y*z + x*y*(1-z) + y*z*(1-x) + x*z*(1-y) + x*(1-y)*(1-z) + y*(1-x)*(1-z) + z*(1-x)*(1-y)\n",
    "P4 = x*y*(1-z) + y*z*(1-x) + x*z*(1-y) + x*(1-y)*(1-z) + y*(1-x)*(1-z) + z*(1-x)*(1-y)\n",
    "\n",
    "print(f\"Вероятность того, что в первый месяц выйдут из строя все детали:\", P1)\n",
    "print(f\"Вероятность того, что в первый месяц выйдут из строя только две детали:\", P2)\n",
    "print(f\"Вероятность того, что в первый месяц выйдут из строя хотя бы одна деталь:\", P3)\n",
    "print(f\"Вероятность того, что в первый месяц выйдут из строя от одной до двух деталей:\", P4)"
   ]
  },
  {
   "cell_type": "code",
   "execution_count": null,
   "metadata": {},
   "outputs": [],
   "source": []
  }
 ],
 "metadata": {
  "kernelspec": {
   "display_name": "Python 3",
   "language": "python",
   "name": "python3"
  },
  "language_info": {
   "codemirror_mode": {
    "name": "ipython",
    "version": 3
   },
   "file_extension": ".py",
   "mimetype": "text/x-python",
   "name": "python",
   "nbconvert_exporter": "python",
   "pygments_lexer": "ipython3",
   "version": "3.8.5"
  }
 },
 "nbformat": 4,
 "nbformat_minor": 4
}
