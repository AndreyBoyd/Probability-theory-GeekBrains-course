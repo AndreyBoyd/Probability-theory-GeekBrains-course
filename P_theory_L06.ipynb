{
 "cells": [
  {
   "cell_type": "markdown",
   "metadata": {},
   "source": [
    "#### Урок 6. Взаимосвязь величин. Параметрические и непараметрические показатели корреляции. Корреляционный анализ.\n",
    "\n",
    "##### Даны значения величины заработной платы заемщиков банка (zp) и значения их поведенческого кредитного скоринга \n",
    "\n",
    "(ks): zp = [35, 45, 190, 200, 40, 70, 54, 150, 120, 110], \n",
    "\n",
    "ks = [401, 574, 874, 919, 459, 739, 653, 902, 746, 832]. \n",
    "##### Найдите ковариацию этих двух величин с помощью элементарных действий, а затем с помощью функции cov из numpy Полученные значения должны быть равны. Найдите коэффициент корреляции Пирсона с помощью ковариации и среднеквадратичных отклонений двух признаков, а затем с использованием функций из библиотек numpy и pandas."
   ]
  },
  {
   "cell_type": "code",
   "execution_count": 1,
   "metadata": {},
   "outputs": [],
   "source": [
    "import numpy as np\n",
    "\n",
    "zp = np.array([35, 45, 190, 200, 40, 70, 54, 150, 120, 110])\n",
    "ks = np.array([401, 574, 874, 919, 459, 739, 653, 902, 746, 832])"
   ]
  },
  {
   "cell_type": "code",
   "execution_count": 4,
   "metadata": {},
   "outputs": [
    {
     "data": {
      "text/plain": [
       "9157.84"
      ]
     },
     "execution_count": 4,
     "metadata": {},
     "output_type": "execute_result"
    }
   ],
   "source": [
    "cov_elementary = np.mean(zp * ks) - np.mean(zp) * np.mean(ks)\n",
    "round(cov_elementary, 2)"
   ]
  },
  {
   "cell_type": "code",
   "execution_count": 5,
   "metadata": {},
   "outputs": [
    {
     "data": {
      "text/plain": [
       "9157.84"
      ]
     },
     "execution_count": 5,
     "metadata": {},
     "output_type": "execute_result"
    }
   ],
   "source": [
    "cov_numpy = np.cov(zp, ks, ddof=0)\n",
    "round(cov_numpy[0, 1], 2)"
   ]
  },
  {
   "cell_type": "code",
   "execution_count": 7,
   "metadata": {},
   "outputs": [
    {
     "data": {
      "text/plain": [
       "0.8874900920739158"
      ]
     },
     "execution_count": 7,
     "metadata": {},
     "output_type": "execute_result"
    }
   ],
   "source": [
    "sigma_zp = np.std(zp)\n",
    "sigma_ks = np.std(ks)\n",
    "\n",
    "correlation1 = cov_elementary / (sigma_ks * sigma_zp)\n",
    "correlation1"
   ]
  },
  {
   "cell_type": "code",
   "execution_count": 8,
   "metadata": {},
   "outputs": [
    {
     "data": {
      "text/plain": [
       "0.8874900920739163"
      ]
     },
     "execution_count": 8,
     "metadata": {},
     "output_type": "execute_result"
    }
   ],
   "source": [
    "correlation2 = np.corrcoef(zp, ks)\n",
    "correlation2[0, 1]"
   ]
  },
  {
   "cell_type": "markdown",
   "metadata": {},
   "source": [
    "##### Измерены значения IQ выборки студентов, обучающихся в местных технических вузах:\n",
    "\n",
    "131, 125, 115, 122, 131, 115, 107, 99, 125, 111.\n",
    "##### Известно, что в генеральной совокупности IQ распределен нормально. Найдите доверительный интервал для математического ожидания с надежностью 0.95."
   ]
  },
  {
   "cell_type": "code",
   "execution_count": 11,
   "metadata": {},
   "outputs": [
    {
     "data": {
      "text/plain": [
       "[110.55660776308164, 125.64339223691834]"
      ]
     },
     "execution_count": 11,
     "metadata": {},
     "output_type": "execute_result"
    }
   ],
   "source": [
    "iq = np.array([131, 125, 115, 122, 131, 115, 107, 99, 125, 111])\n",
    "X = np.mean(iq)\n",
    "sigma_iq = np.std(iq, ddof=1)\n",
    "t = 2.262\n",
    "\n",
    "a = X - t * (sigma_iq / np.sqrt(len(iq)))\n",
    "b = X + t * (sigma_iq / np.sqrt(len(iq)))\n",
    "\n",
    "delta_r = [a, b]\n",
    "delta_r"
   ]
  },
  {
   "cell_type": "markdown",
   "metadata": {},
   "source": [
    "##### Известно, что рост футболистов в сборной распределен нормально с дисперсией генеральной совокупности, равной 25 кв.см. Объем выборки равен 27, среднее выборочное составляет 174.2. Найдите доверительный интервал для математического ожидания с альфа =0,95"
   ]
  },
  {
   "cell_type": "code",
   "execution_count": 13,
   "metadata": {},
   "outputs": [
    {
     "data": {
      "text/plain": [
       "[172.37172414756617, 176.0282758524338]"
      ]
     },
     "execution_count": 13,
     "metadata": {},
     "output_type": "execute_result"
    }
   ],
   "source": [
    "D = 25\n",
    "n = 27\n",
    "X = 174.2\n",
    "z = 1.9\n",
    "\n",
    "a = X - z * (np.sqrt(D) / np.sqrt(n))\n",
    "b = X + z * (np.sqrt(D) / np.sqrt(n))\n",
    "\n",
    "delta_r = [a, b]\n",
    "delta_r"
   ]
  },
  {
   "cell_type": "code",
   "execution_count": null,
   "metadata": {},
   "outputs": [],
   "source": []
  }
 ],
 "metadata": {
  "kernelspec": {
   "display_name": "Python 3",
   "language": "python",
   "name": "python3"
  },
  "language_info": {
   "codemirror_mode": {
    "name": "ipython",
    "version": 3
   },
   "file_extension": ".py",
   "mimetype": "text/x-python",
   "name": "python",
   "nbconvert_exporter": "python",
   "pygments_lexer": "ipython3",
   "version": "3.8.5"
  }
 },
 "nbformat": 4,
 "nbformat_minor": 4
}
